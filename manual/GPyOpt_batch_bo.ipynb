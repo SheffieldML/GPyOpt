{
 "metadata": {
  "name": "",
  "signature": "sha256:1de7b5c6b7685d067697754bfb0f8e6166874efc3749a627ca4aa1746656db4f"
 },
 "nbformat": 3,
 "nbformat_minor": 0,
 "worksheets": [
  {
   "cells": [
    {
     "cell_type": "markdown",
     "metadata": {},
     "source": [
      "(Coming soon)"
     ]
    },
    {
     "cell_type": "code",
     "collapsed": false,
     "input": [],
     "language": "python",
     "metadata": {},
     "outputs": []
    }
   ],
   "metadata": {}
  }
 ]
}