{
 "cells": [
  {
   "cell_type": "markdown",
   "metadata": {},
   "source": [
    "# GPyOpt: using context variables\n",
    "\n",
    "### Javier Gonzalez and Rodolphe Jenatton, Amazon.com\n",
    "\n",
    "\n",
    "*Last updated Monday, July 2017*"
   ]
  },
  {
   "cell_type": "markdown",
   "metadata": {},
   "source": [
    "In this notebook we are going to see how to used GPyOpt to solve optimizaiton problems in which certain varaibles are fixed during the optimization phase. These are called context variables. For details see:\n",
    "\n",
    "\n",
    "*Krause, A. & Ong, C. S. Contextual gaussian process bandit optimization Advances in Neural Information Processing Systems (NIPS), 2011, 2447-2455*"
   ]
  },
  {
   "cell_type": "code",
   "execution_count": 1,
   "metadata": {},
   "outputs": [
    {
     "name": "stdout",
     "output_type": "stream",
     "text": [
      "Populating the interactive namespace from numpy and matplotlib\n"
     ]
    }
   ],
   "source": [
    "%pylab inline\n",
    "import GPyOpt\n",
    "from numpy.random import seed"
   ]
  },
  {
   "cell_type": "code",
   "execution_count": 2,
   "metadata": {},
   "outputs": [],
   "source": [
    "func  = GPyOpt.objective_examples.experimentsNd.alpine1(input_dim=5) "
   ]
  },
  {
   "cell_type": "markdown",
   "metadata": {},
   "source": [
    "Now we define the domain of the function to optimize as usual."
   ]
  },
  {
   "cell_type": "code",
   "execution_count": 3,
   "metadata": {},
   "outputs": [],
   "source": [
    "mixed_domain =[{'name': 'var1', 'type': 'continuous', 'domain': (-5,5),'dimensionality': 3},\n",
    "               {'name': 'var2', 'type': 'discrete', 'domain': (3,8,10)},\n",
    "               {'name': 'var3', 'type': 'categorical', 'domain': (0,1,2)},\n",
    "               {'name': 'var4', 'type': 'continuous', 'domain': (-1,2)}]"
   ]
  },
  {
   "cell_type": "code",
   "execution_count": 4,
   "metadata": {},
   "outputs": [
    {
     "name": "stdout",
     "output_type": "stream",
     "text": [
      "Error in parallel computation. Fall back to single process!\n"
     ]
    }
   ],
   "source": [
    "myBopt = GPyOpt.methods.BayesianOptimization(f=func.f,                     # Objective function       \n",
    "                                             domain=mixed_domain,          # Box-constraints of the problem\n",
    "                                             initial_design_numdata = 5,   # Number data initial design\n",
    "                                             acquisition_type='EI',        # Expected Improvement\n",
    "                                             exact_feval = True,\n",
    "                                             evaluator_type = 'local_penalization',\n",
    "                                             batch_size = 5\n",
    "                                             )           # True evaluations, no sample noise"
   ]
  },
  {
   "cell_type": "markdown",
   "metadata": {},
   "source": [
    "Now, we run the optimization for 20 iterations or a maximum of 60 seconds and we show the convergence plots."
   ]
  },
  {
   "cell_type": "code",
   "execution_count": 5,
   "metadata": {
    "scrolled": false
   },
   "outputs": [],
   "source": [
    "max_iter = 2    ## maximum number of iterations\n",
    "max_time = 60   ## maximum allowed time\n",
    "eps      = 0    ## tolerance, max distance between consicutive evaluations."
   ]
  },
  {
   "cell_type": "markdown",
   "metadata": {},
   "source": [
    "To set a context, we just need to create a dicctionary with the variables to fix and pass it to the Bayesian ottimization object when running the optimization. Note that, everytime we run new iterations we can set other variables to be the context. Note that for variables in which the dimaensionality has been specified in the domain, a subindex is internally asigned. For instance if the variables is called 'var1' and has dimensionality 3, the first three positions in the internal representation of the domain will be occupied by variables 'var1_1', 'var1_2' and 'var1_3'. If no dimensionality is added, the internal naming remains the same. For instance, in the example above 'var3' should be fixed its original name. See below for details."
   ]
  },
  {
   "cell_type": "code",
   "execution_count": 6,
   "metadata": {},
   "outputs": [
    {
     "name": "stdout",
     "output_type": "stream",
     "text": [
      "Error in parallel computation. Fall back to single process!\n",
      "Error in parallel computation. Fall back to single process!\n",
      "Error in parallel computation. Fall back to single process!\n",
      "Error in parallel computation. Fall back to single process!\n",
      "Error in parallel computation. Fall back to single process!\n",
      "Error in parallel computation. Fall back to single process!\n",
      "Error in parallel computation. Fall back to single process!\n",
      "Error in parallel computation. Fall back to single process!\n",
      "Error in parallel computation. Fall back to single process!\n",
      "Error in parallel computation. Fall back to single process!\n",
      "Error in parallel computation. Fall back to single process!\n",
      "Error in parallel computation. Fall back to single process!\n"
     ]
    }
   ],
   "source": [
    "myBopt.run_optimization(max_iter,eps=eps)\n",
    "myBopt.run_optimization(max_iter,eps=eps,context = {'var1_1':.3, 'var1_2':0.4})\n",
    "myBopt.run_optimization(max_iter,eps=eps,context = {'var1_1':0, 'var3':2})\n",
    "myBopt.run_optimization(max_iter,eps=eps,context = {'var1_1':0, 'var2':3},)\n",
    "myBopt.run_optimization(max_iter,eps=eps,context = {'var1_1':0.3, 'var3':1, 'var4':-.4})\n",
    "myBopt.run_optimization(max_iter,eps=eps)"
   ]
  },
  {
   "cell_type": "markdown",
   "metadata": {},
   "source": [
    "We can now visualize the results"
   ]
  },
  {
   "cell_type": "code",
   "execution_count": 7,
   "metadata": {},
   "outputs": [
    {
     "data": {
      "text/plain": [
       "array([[-4.47, -3.83, -0.76,  3.  ,  0.  ,  1.79],\n",
       "       [-3.75,  0.36,  3.85,  8.  ,  0.  ,  1.32],\n",
       "       [ 4.43,  3.57, -4.66,  8.  ,  1.  ,  0.26],\n",
       "       [ 0.61,  3.58,  3.37,  3.  ,  0.  ,  1.59],\n",
       "       [ 0.27, -3.46, -3.54, 10.  ,  1.  ,  0.76],\n",
       "       [ 0.55,  3.61,  3.41,  3.  ,  0.  ,  1.49],\n",
       "       [ 0.21, -3.31, -3.27, 10.  ,  1.  ,  0.88],\n",
       "       [-0.6 ,  2.98,  4.02,  3.  ,  0.  ,  2.  ],\n",
       "       [-4.27, -3.91, -1.02,  3.  ,  0.  ,  1.48],\n",
       "       [-4.17, -3.53, -0.46,  3.  ,  0.  ,  2.  ],\n",
       "       [-0.22, -2.47, -1.37, 10.  ,  1.  ,  1.79],\n",
       "       [ 1.56,  4.67,  4.36,  3.  ,  0.  ,  1.87],\n",
       "       [ 0.97,  2.58,  2.15,  3.  ,  0.  ,  0.89],\n",
       "       [ 0.73,  4.74,  2.48,  3.  ,  2.  ,  1.54],\n",
       "       [-2.03, -2.2 ,  0.25,  3.  ,  0.  ,  2.  ],\n",
       "       [ 0.3 ,  0.4 ,  3.02,  3.  ,  0.  ,  1.72],\n",
       "       [ 0.3 ,  0.4 ,  0.56,  3.  ,  0.  ,  1.83],\n",
       "       [ 0.3 ,  0.4 ,  4.08,  3.  ,  0.  , -0.26],\n",
       "       [ 0.3 ,  0.4 ,  1.12,  3.  ,  1.  , -0.64],\n",
       "       [ 0.3 ,  0.4 ,  4.73,  3.  ,  2.  ,  1.87],\n",
       "       [ 0.3 ,  0.4 ,  1.92,  3.  ,  0.  ,  0.57],\n",
       "       [ 0.3 ,  0.4 ,  1.59,  3.  ,  1.  ,  1.01],\n",
       "       [ 0.3 ,  0.4 ,  2.57,  3.  ,  0.  ,  0.1 ],\n",
       "       [ 0.3 ,  0.4 ,  0.87,  3.  ,  0.  ,  0.02],\n",
       "       [ 0.3 ,  0.4 ,  2.29,  3.  ,  0.  , -0.97],\n",
       "       [ 0.  , -0.17, -0.48,  3.  ,  2.  , -0.21],\n",
       "       [ 0.  , -1.27,  0.79,  3.  ,  2.  , -0.23],\n",
       "       [ 0.  ,  1.04, -1.21,  3.  ,  2.  , -0.4 ],\n",
       "       [ 0.  , -1.31, -1.84,  3.  ,  2.  , -0.7 ],\n",
       "       [ 0.  , -0.22, -1.77,  3.  ,  2.  ,  1.53],\n",
       "       [ 0.  , -5.  ,  5.  ,  3.  ,  2.  , -1.  ],\n",
       "       [ 0.  ,  0.55,  0.58,  3.  ,  2.  , -1.  ],\n",
       "       [ 0.  , -5.  ,  5.  , 10.  ,  2.  , -1.  ],\n",
       "       [ 0.  , -5.  , -5.  ,  3.  ,  2.  ,  2.  ],\n",
       "       [ 0.  , -5.  ,  4.09,  3.  ,  2.  ,  2.  ],\n",
       "       [ 0.  , -0.13, -0.15,  3.  ,  0.  , -0.2 ],\n",
       "       [ 0.  , -0.4 , -0.24,  3.  ,  0.  ,  0.  ],\n",
       "       [ 0.  ,  0.08,  0.  ,  3.  ,  0.  ,  0.09],\n",
       "       [ 0.  ,  0.01, -0.45,  3.  ,  0.  , -0.74],\n",
       "       [ 0.  , -0.35, -0.43,  3.  ,  0.  ,  0.8 ],\n",
       "       [ 0.  ,  5.  , -5.  ,  3.  ,  0.  ,  2.  ],\n",
       "       [ 0.  ,  5.  , -5.  ,  3.  ,  0.  , -1.  ],\n",
       "       [ 0.  ,  1.85, -5.  ,  3.  ,  0.  , -0.95],\n",
       "       [ 0.  ,  4.25, -2.04,  3.  ,  0.  ,  2.  ],\n",
       "       [ 0.  ,  2.  , -4.98,  3.  ,  0.  ,  1.71],\n",
       "       [ 0.3 ,  5.  ,  5.  , 10.  ,  1.  , -0.4 ],\n",
       "       [ 0.3 , -0.38, -0.53,  3.  ,  1.  , -0.4 ],\n",
       "       [ 0.3 ,  5.  ,  1.82, 10.  ,  1.  , -0.4 ],\n",
       "       [ 0.3 , -1.01, -0.2 ,  3.  ,  1.  , -0.4 ],\n",
       "       [ 0.3 , -0.03, -1.14,  3.  ,  1.  , -0.4 ],\n",
       "       [ 0.3 , -0.25, -0.31,  3.  ,  1.  , -0.4 ],\n",
       "       [ 0.3 , -0.25, -0.31,  3.  ,  1.  , -0.4 ],\n",
       "       [ 0.3 , -0.25, -0.31,  3.  ,  1.  , -0.4 ],\n",
       "       [ 0.3 , -0.25, -0.31,  3.  ,  1.  , -0.4 ],\n",
       "       [ 0.3 , -0.25, -0.31,  3.  ,  1.  , -0.4 ],\n",
       "       [-5.  ,  5.  , -5.  , 10.  ,  1.  , -1.  ],\n",
       "       [ 5.  , -1.94,  0.51,  3.  ,  0.  , -1.  ],\n",
       "       [-5.  ,  5.  , -5.  , 10.  ,  0.  ,  2.  ],\n",
       "       [-1.16,  0.07, -0.16,  3.  ,  0.  , -0.21],\n",
       "       [-4.33,  1.64, -1.04,  3.  ,  0.  ,  1.13],\n",
       "       [ 5.  , -5.  , -0.6 , 10.  ,  0.  ,  2.  ],\n",
       "       [ 5.  , -3.48,  0.04, 10.  ,  0.  , -1.  ],\n",
       "       [ 5.  , -1.98,  5.  ,  3.  ,  0.  ,  2.  ],\n",
       "       [ 5.  , -0.93,  5.  , 10.  ,  0.  ,  2.  ],\n",
       "       [ 5.  , -5.  ,  5.  ,  3.  ,  0.  ,  2.  ]])"
      ]
     },
     "execution_count": 7,
     "metadata": {},
     "output_type": "execute_result"
    }
   ],
   "source": [
    "np.round(myBopt.X,2)"
   ]
  },
  {
   "cell_type": "code",
   "execution_count": null,
   "metadata": {},
   "outputs": [],
   "source": []
  }
 ],
 "metadata": {
  "anaconda-cloud": {},
  "kernelspec": {
   "display_name": "Python 3",
   "language": "python",
   "name": "python3"
  },
  "language_info": {
   "codemirror_mode": {
    "name": "ipython",
    "version": 3
   },
   "file_extension": ".py",
   "mimetype": "text/x-python",
   "name": "python",
   "nbconvert_exporter": "python",
   "pygments_lexer": "ipython3",
   "version": "3.6.8"
  }
 },
 "nbformat": 4,
 "nbformat_minor": 1
}
