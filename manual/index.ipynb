{
 "metadata": {
  "name": "",
  "signature": "sha256:a4bef74f6bbf94f4a89c9d39322d16c54b7a15bf5ce8fbdadef51fa355d1e48d"
 },
 "nbformat": 3,
 "nbformat_minor": 0,
 "worksheets": [
  {
   "cells": [
    {
     "cell_type": "markdown",
     "metadata": {},
     "source": [
      "# GPyOpt: collection of notebooks\n",
      "\n",
      "=====================================================================================================\n",
      "1. **Purpose of these notebooks**\n",
      "\n",
      "2. **First Steps with GPyOpt**\n",
      "\n",
      "3. **Using GPy functionalities**\n",
      "\n",
      "4. **Batch Bayesian optimization with GPyOpt**\n",
      "\n",
      "=====================================================================================================\n"
     ]
    },
    {
     "cell_type": "markdown",
     "metadata": {},
     "source": [
      "## 1. Purpose of these notebooks\n",
      "\n",
      "The purpose of this collection of notebooks is to provide a guide to use GPyOpt, a python package for Bayesian optimization developed by the machine learning group of the university of Sheffield. The framework is BSD licensed and we welcome collaborators to develop new functionalities.\n",
      "\n",
      "GPyOpt is based on GPy, a library for Gaussian process modelling in Python. [Here](http://nbviewer.ipython.org/github/SheffieldML/notebook/blob/master/GPy/index.ipynb) you can also find some noteboos about GPy functionalities.\n",
      "\n",
      "If you have any question or suggestions about the notebooks, please contact (Javier Gonzalez) j.h.gonzalez@sheffield.ac.uk\n",
      "\n",
      "\n"
     ]
    },
    {
     "cell_type": "markdown",
     "metadata": {},
     "source": [
      "## 2. First steps with GPyOpt\n",
      "\n",
      "* [Introduction to GPyOpt and Bayesian Optimization](./GPyOpt_reference_manual.ipynb): This tutorial contains an introduction to GPyOpt and Bayesian Optimization with several examples and applications. This notebook by no means contains all the GPyOpt functionalities, but it is gives a general overview of the package."
     ]
    },
    {
     "cell_type": "markdown",
     "metadata": {},
     "source": [
      "## 3. Importing fuctionalities from GPy\n",
      "\n",
      "* [GPyOpt for large-scale problems](./GPyOpt_large_scale.ipynb): (Coming soon)\n"
     ]
    },
    {
     "cell_type": "markdown",
     "metadata": {},
     "source": [
      "## 4. Batch Bayesian Optimization with GPyOpt\n",
      "* [GPyOpt for batch Bayesian optimization](./GPyOpt_batch_bo.ipynb) (Coming soon)\n"
     ]
    },
    {
     "cell_type": "code",
     "collapsed": false,
     "input": [],
     "language": "python",
     "metadata": {},
     "outputs": []
    }
   ],
   "metadata": {}
  }
 ]
}