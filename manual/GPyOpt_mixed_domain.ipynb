{
 "cells": [
  {
   "cell_type": "markdown",
   "metadata": {},
   "source": [
    "# GPyOpt: mixing different types of variables\n",
    "\n",
    "### Javier Gonzalez, Amazon Research Cambridge.\n",
    "\n",
    "\n",
    "*Last updated Monday, July 2017*"
   ]
  },
  {
   "cell_type": "markdown",
   "metadata": {},
   "source": [
    "In this notebook we are going to see how to used GPyOpt to solve optimizaiton problems in which the domain of the fucntion is defined in terms of a variety of continous and discrete variables. To this end we start by loading GPyOpt. "
   ]
  },
  {
   "cell_type": "code",
   "execution_count": 1,
   "metadata": {
    "scrolled": true
   },
   "outputs": [
    {
     "name": "stdout",
     "output_type": "stream",
     "text": [
      "Populating the interactive namespace from numpy and matplotlib\n"
     ]
    }
   ],
   "source": [
    "%pylab inline  \n",
    "import GPyOpt\n",
    "from numpy.random import seed\n",
    "import numpy as np\n",
    "seed(123)"
   ]
  },
  {
   "cell_type": "markdown",
   "metadata": {},
   "source": [
    "We will use the **Alpine1** function, that it is available in the benchmark of functions of the package. This function is defined for arbitrary dimension. In this example we will work in dimension 9. The functional form of the Alpine1 function is:\n",
    "\n",
    "$$f(x_1,x_2,...,x_9)=\\sum_{i=1}^{9} \\lvert {x_i \\sin \\left( x_i \\right) + 0.1 x_i} \\rvert$$"
   ]
  },
  {
   "cell_type": "markdown",
   "metadata": {},
   "source": [
    "We load the function from GPyOpt, assuming that noisy free values will be sampled."
   ]
  },
  {
   "cell_type": "code",
   "execution_count": 2,
   "metadata": {},
   "outputs": [],
   "source": [
    "func  = GPyOpt.objective_examples.experimentsNd.alpine1(input_dim=9) "
   ]
  },
  {
   "cell_type": "markdown",
   "metadata": {},
   "source": [
    "We will consider that variables $x_1$, $x_2$ and $x_3$ are continuous and defined in the interval $[-5,5]$, variable $x_9$ is takes continuous values in the interval $[-1,2]$, variable $x_3$ is discrete and takes values $\\{3,8,10\\}$, and finally $x_4$ is categorical with three different categories. Next we define this domain to use it in GPyOpt."
   ]
  },
  {
   "cell_type": "code",
   "execution_count": 3,
   "metadata": {},
   "outputs": [],
   "source": [
    "mixed_domain =[{'name': 'var1', 'type': 'continuous', 'domain': (-5,5),'dimensionality': 3},\n",
    "               {'name': 'var3', 'type': 'discrete', 'domain': (3,8,10),'dimensionality': 2},\n",
    "               {'name': 'var4', 'type': 'categorical', 'domain': (0,1,2),'dimensionality': 1},\n",
    "               {'name': 'var5', 'type': 'continuous', 'domain': (-1,2)}]"
   ]
  },
  {
   "cell_type": "code",
   "execution_count": 4,
   "metadata": {},
   "outputs": [],
   "source": [
    "myBopt = GPyOpt.methods.BayesianOptimization(f=func.f,                     # Objective function       \n",
    "                                             domain=mixed_domain,          # Box-constraints of the problem\n",
    "                                             initial_design_numdata = 5,   # Number data initial design\n",
    "                                             acquisition_type='EI',        # Expected Improvement\n",
    "                                             exact_feval = True)           # True evaluations, no sample noise"
   ]
  },
  {
   "cell_type": "markdown",
   "metadata": {},
   "source": [
    "Now, we run the optimization for 20 iterations or a maximum of 60 seconds and we show the convergence plots."
   ]
  },
  {
   "cell_type": "code",
   "execution_count": 5,
   "metadata": {
    "scrolled": false
   },
   "outputs": [],
   "source": [
    "max_iter = 20       ## maximum number of iterations\n",
    "max_time = 60       ## maximum allowed time\n",
    "eps      = 1e-6     ## tolerance, max distance between consicutive evaluations.\n",
    "\n",
    "myBopt.run_optimization(max_iter,eps=0)"
   ]
  },
  {
   "cell_type": "code",
   "execution_count": 6,
   "metadata": {},
   "outputs": [
    {
     "data": {
      "text/plain": [
       "array([[-3.6 ,  1.95,  2.12, 10.  , 10.  ,  2.  ,  0.07],\n",
       "       [-0.99,  0.94, -0.72,  8.  , 10.  ,  1.  ,  0.25],\n",
       "       [ 1.27,  1.32, -2.02, 10.  ,  8.  ,  0.  ,  0.96],\n",
       "       [-1.76, -0.6 , -0.08, 10.  , 10.  ,  1.  ,  0.12],\n",
       "       [-2.55, -4.16,  2.4 ,  3.  ,  8.  ,  2.  , -0.3 ],\n",
       "       [-1.74, -0.78, -0.23, 10.  , 10.  ,  1.  ,  0.06],\n",
       "       [-1.93, -0.98,  0.62, 10.  , 10.  ,  1.  ,  0.36],\n",
       "       [-2.38, -0.18, -0.17, 10.  , 10.  ,  1.  , -0.33],\n",
       "       [-2.74, -0.09, -0.7 , 10.  , 10.  ,  1.  ,  0.65],\n",
       "       [-4.32, -0.19, -2.13, 10.  , 10.  ,  1.  , -0.78],\n",
       "       [-2.35, -0.07, -0.26, 10.  , 10.  ,  1.  ,  0.29],\n",
       "       [ 5.  ,  5.  ,  5.  ,  3.  ,  3.  ,  2.  , -1.  ],\n",
       "       [-2.32, -0.22, -0.22, 10.  ,  8.  ,  1.  , -0.08],\n",
       "       [ 5.  , -5.  , -5.  ,  3.  ,  3.  ,  2.  ,  2.  ],\n",
       "       [-2.83, -0.45, -0.98, 10.  , 10.  ,  1.  ,  2.  ],\n",
       "       [ 5.  , -5.  ,  5.  , 10.  ,  3.  ,  1.  , -1.  ],\n",
       "       [-5.  ,  5.  , -5.  ,  3.  ,  3.  ,  0.  ,  2.  ],\n",
       "       [-2.3 , -0.18, -0.32, 10.  , 10.  ,  0.  , -0.06],\n",
       "       [-1.58, -0.17,  0.21, 10.  , 10.  ,  0.  , -1.  ],\n",
       "       [ 5.  ,  5.  , -5.  ,  3.  , 10.  ,  0.  ,  2.  ],\n",
       "       [-5.  ,  5.  ,  5.  ,  3.  ,  3.  ,  0.  ,  2.  ],\n",
       "       [ 5.  ,  5.  ,  5.  , 10.  , 10.  ,  0.  , -1.  ],\n",
       "       [-5.  , -5.  , -5.  ,  3.  ,  3.  ,  0.  , -1.  ],\n",
       "       [-5.  , -5.  ,  5.  , 10.  ,  3.  ,  0.  ,  2.  ],\n",
       "       [ 5.  , -5.  , -5.  , 10.  , 10.  ,  0.  , -1.  ]])"
      ]
     },
     "execution_count": 6,
     "metadata": {},
     "output_type": "execute_result"
    }
   ],
   "source": [
    "np.round(myBopt.X,2)"
   ]
  },
  {
   "cell_type": "code",
   "execution_count": 7,
   "metadata": {},
   "outputs": [
    {
     "data": {
      "image/png": "[encoded data removed]",
      "text/plain": [
       "<Figure size 720x360 with 2 Axes>"
      ]
     },
     "metadata": {
      "needs_background": "light"
     },
     "output_type": "display_data"
    }
   ],
   "source": [
    "myBopt.plot_convergence()"
   ]
  }
 ],
 "metadata": {
  "anaconda-cloud": {},
  "kernelspec": {
   "display_name": "Python 3",
   "language": "python",
   "name": "python3"
  },
  "language_info": {
   "codemirror_mode": {
    "name": "ipython",
    "version": 3
   },
   "file_extension": ".py",
   "mimetype": "text/x-python",
   "name": "python",
   "nbconvert_exporter": "python",
   "pygments_lexer": "ipython3",
   "version": "3.6.8"
  }
 },
 "nbformat": 4,
 "nbformat_minor": 1
}
